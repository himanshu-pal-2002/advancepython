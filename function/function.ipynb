{
 "cells": [
  {
   "cell_type": "markdown",
   "metadata": {},
   "source": [
    "# Types Of Variable in function.\n",
    "1.Local Function\n",
    "2.Global function\n",
    "3.Non-Local function\n",
    "\n",
    "\n",
    "------------Local Function:-----------\n",
    "\n",
    "1.These are the variables which are created inside function space.\n",
    "2.Local Variable can be accessed and modified only in that function space.\n",
    "3.We cannot Access Local Variable in main space. "
   ]
  },
  {
   "cell_type": "code",
   "execution_count": null,
   "metadata": {},
   "outputs": [],
   "source": [
    "def display():\n",
    "    a=10\n",
    "    print(a)\n",
    "    a-=5\n",
    "    print(a)\n",
    "display()\n",
    "print(a)"
   ]
  },
  {
   "cell_type": "markdown",
   "metadata": {},
   "source": [
    "# Global Variable:\n",
    "1.These are the variable which are created outside the function and accessed and modified inside the function.\n",
    "2.In order to make a normal variable into global we have to use global keyboard. \n",
    "\n",
    "# Syntax:\n",
    "    global variable1,variable2,................,variablen."
   ]
  },
  {
   "cell_type": "code",
   "execution_count": null,
   "metadata": {},
   "outputs": [],
   "source": [
    "a,b=99,23\n",
    "def display():\n",
    "    global a,b\n",
    "    print(a,b)\n",
    "    a-=10\n",
    "    b+=10\n",
    "    print(a,b)\n",
    "display()\n",
    "print(a,b)"
   ]
  },
  {
   "cell_type": "markdown",
   "metadata": {},
   "source": [
    "# Non-local Variable:\n",
    "1.Non-local variable are used in nested function\n",
    "2.Non-local variable defined in outer function space and can be accessed and modifies.\n",
    "3.To make normal variable in to non-local we have to use nonlocal keyword.\n",
    "\n",
    "----syntax-----\n",
    "   nonlocal variable1,variable2,...............,variablen."
   ]
  },
  {
   "cell_type": "code",
   "execution_count": null,
   "metadata": {},
   "outputs": [],
   "source": [
    "def Outer():\n",
    "    a,b=90,100\n",
    "    def inner():\n",
    "        nonlocal a,b\n",
    "        print(a,b)\n",
    "        a-=10\n",
    "        b+=10\n",
    "        print(a,b)\n",
    "    inner()\n",
    "    print(a,b)\n",
    "Outer()"
   ]
  }
 ],
 "metadata": {
  "kernelspec": {
   "display_name": "base",
   "language": "python",
   "name": "python3"
  },
  "language_info": {
   "codemirror_mode": {
    "name": "ipython",
    "version": 3
   },
   "file_extension": ".py",
   "mimetype": "text/x-python",
   "name": "python",
   "nbconvert_exporter": "python",
   "pygments_lexer": "ipython3",
   "version": "3.9.12"
  }
 },
 "nbformat": 4,
 "nbformat_minor": 2
}

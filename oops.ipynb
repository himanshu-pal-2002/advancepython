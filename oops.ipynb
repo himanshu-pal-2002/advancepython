{
 "cells": [
  {
   "cell_type": "code",
   "execution_count": 2,
   "metadata": {},
   "outputs": [
    {
     "name": "stdout",
     "output_type": "stream",
     "text": [
      "Name is : Himanshu\n",
      "Class is : 5\n",
      "Address is : Bidhuna\n"
     ]
    }
   ],
   "source": [
    "def Student(name,Class,Address):\n",
    "    print('Name is :',name)\n",
    "    print('Class is :',Class)\n",
    "    print('Address is :',Address)\n",
    "Student('Himanshu',5,'Bidhuna')"
   ]
  },
  {
   "cell_type": "markdown",
   "metadata": {},
   "source": [
    "# Recursion Function:\n",
    "It is the process of calling the function within itself untill the given terminating condition is satisfied.\n",
    "\n",
    "# Benefits of Recursion.\n",
    "1.It reduces the code complexity.\n",
    "2.when we want to repeat the same process recursion is the best way.\n",
    "\n",
    "# Demirits of Recursion.\n",
    "Memory Consumption is more.\n",
    "\n",
    "# Syntax:\n",
    "def Recursive_function():\n",
    "    statements\n",
    "    if condition:\n",
    "        termination\n",
    "    Recursive_function"
   ]
  },
  {
   "cell_type": "code",
   "execution_count": 1,
   "metadata": {},
   "outputs": [
    {
     "data": {
      "text/plain": [
       "55"
      ]
     },
     "execution_count": 1,
     "metadata": {},
     "output_type": "execute_result"
    }
   ],
   "source": [
    "def sum(n):\n",
    "    if n==0:\n",
    "        return 0\n",
    "    return (n+sum(n-1))\n",
    "sum(10)"
   ]
  },
  {
   "cell_type": "code",
   "execution_count": 2,
   "metadata": {},
   "outputs": [
    {
     "name": "stdout",
     "output_type": "stream",
     "text": [
      "24\n"
     ]
    }
   ],
   "source": [
    "def fact(n):\n",
    "    if n==0:\n",
    "        return 1\n",
    "    return n*fact(n-1)\n",
    "print(fact(4))"
   ]
  },
  {
   "cell_type": "markdown",
   "metadata": {},
   "source": [
    "# Constructor:\n",
    "1.Constructor is the special method which call automatically when new object is created.\n",
    "2.We call __init__ as constructor bcoz it is used for initializing the object members.(Constructing Object)\n",
    "3.Self is the mandatory argument we have to pass for the __init__.\n",
    "4.Self is used for considering the instance address.\n",
    "\n",
    "# Example of Constructor:\n",
    "class A:\n",
    "    def __init__(self):\n",
    "      print('I am happy')\n",
    "      print('I got a call',self,'is created')\n",
    "a1=A()\n",
    "a2=A()\n",
    "\n",
    "# Types of Constructor :\n",
    "1.Constructor with no arguments\n",
    "2.Parametrised Constructor \n",
    "3.Constructor with default argument"
   ]
  },
  {
   "cell_type": "markdown",
   "metadata": {},
   "source": [
    "Behaviour or Methods.\n",
    "1.Object Methods\n",
    "2.Class Methods\n",
    "3.Static Methods"
   ]
  },
  {
   "cell_type": "markdown",
   "metadata": {},
   "source": [
    "# Object Method.\n",
    "1.These are used for defining,accessing,modifying the specific properties of an object.\n",
    "2.While defining object method we have to provide a mandatory argument (self) which is responsible for \n",
    "considering the current object address.\n",
    "3.Object method belongs to object.\n",
    "4.object methods are accessing only by using the object reference only.\n",
    "\n",
    "# Syntax for accessing the object method by using object.\n",
    "    objectname.methodname(arguments)\n",
    "\n",
    "# Syntax for accessing object method by using class name.\n",
    "    classname.methodname(objectreference,arguments)"
   ]
  },
  {
   "cell_type": "markdown",
   "metadata": {},
   "source": [
    "# Class Method.\n",
    "1.class method are used for accessing,defining and modifying the class members.\n",
    "2.class methods also take one mandatory argument called (cls).\n",
    "3.cls is used for referring the class address.\n",
    "4.each and every class method decorated with classmethod decorator.\n",
    "5.we can acccess class method with both object as well as class but modifies class member directly.\n",
    "\n",
    "# Syntax for creating the class method.\n",
    "\n",
    "class classname:\n",
    "    @classmethod\n",
    "    def methodname(cls,arguments):\n",
    "    pass"
   ]
  },
  {
   "cell_type": "markdown",
   "metadata": {},
   "source": [
    "# Static Metod.\n",
    "1.Static Method are neither belongs to class nor objects.\n",
    "2.No need of passing any of the arguments like self or cls.\n",
    "3.By using static methods we cannot access or modify the class or object state.\n",
    "4.These methods are defined just to get some data while execution of objects or class methods.\n",
    "5.Static methods are decorated by using the staticmethod decorator.\n",
    "\n",
    "# Syntax:\n",
    "class classname:\n",
    "    @staticmethod\n",
    "    def method():\n",
    "    content"
   ]
  },
  {
   "cell_type": "markdown",
   "metadata": {},
   "source": [
    "Example of Aggregation in oops."
   ]
  },
  {
   "cell_type": "code",
   "execution_count": 5,
   "metadata": {},
   "outputs": [
    {
     "name": "stdout",
     "output_type": "stream",
     "text": [
      "Name of student is: Happy\n",
      "Age of student is: 12\n",
      "Id of student is: 2345\n",
      "name of city is: Bangalore\n",
      "name of state is: Karnataka\n",
      "name of country is: Bharat\n",
      "Address of student is: None\n"
     ]
    }
   ],
   "source": [
    "class Address:\n",
    "    def __init__(self,c,s,co):\n",
    "        self.city=c\n",
    "        self.state=s\n",
    "        self.country=co\n",
    "    def display_address(self):\n",
    "        print('name of city is:',self.city)\n",
    "        print('name of state is:',self.state)\n",
    "        print('name of country is:',self.country)\n",
    "Bangaloreobject=Address('Bangalore','Karnataka','Bharat')\n",
    "# Bangaloreobject.address()\n",
    "class Student:\n",
    "    def __init__(self,n,a,i,ado):\n",
    "        self.sname=n\n",
    "        self.sage=a\n",
    "        self.sid=i\n",
    "        self.saddress=ado\n",
    "    def student_info(self):\n",
    "        print('Name of student is:',self.sname)\n",
    "        print('Age of student is:',self.sage)\n",
    "        print('Id of student is:',self.sid)\n",
    "        print('Address of student is:',self.saddress.display_address())\n",
    "        \n",
    "Nikky=Student('Happy',12,2345,Bangaloreobject)\n",
    "Nikky.student_info()"
   ]
  },
  {
   "cell_type": "code",
   "execution_count": 8,
   "metadata": {},
   "outputs": [
    {
     "name": "stdout",
     "output_type": "stream",
     "text": [
      "678\n",
      "Happy\n",
      "1\n"
     ]
    }
   ],
   "source": [
    "class Player:\n",
    "    def __init__(self,Pn,Pc,Pa,Pnom,Pnor,Pnow):\n",
    "        self.Pname=Pn\n",
    "        self.Pcountry=Pc\n",
    "        self.Page=Pa\n",
    "        self.Pmatches=Pnom\n",
    "        self.Pruns=Pnor\n",
    "        self.Pw=Pnow\n",
    "    def Player_info_display(self):\n",
    "        print('Name of Player:',self.Pname)\n",
    "        print('Country of Player:',self.Pcountry)\n",
    "        print('Age of Player:',self.Page)\n",
    "        print('No of Matches Played:',self.noofmatches)\n",
    "        print('No of Runs Scored:',self.noofruns)\n",
    "        print('No of Wickets Taken:',self.noofwickets)\n",
    "\n",
    "class Team:\n",
    "    def __init__(self,n):\n",
    "        self.nop=n\n",
    "        self.PL=[]\n",
    "        for i in range(self.nop):\n",
    "            Pn=input('Name')\n",
    "            Pc=input('Country')\n",
    "            Pa=int(input('Age'))\n",
    "            Pnom=int(input('noofmatches'))\n",
    "            Pnor=int(input('noofruns'))\n",
    "            Pnow=int(input('noofwickets'))\n",
    "            Po=Player(Pn,Pc,Pa,Pnom,Pnor,Pnow)\n",
    "            self.PL.append(Po)\n",
    "    def Team_score(self):\n",
    "        ts=0\n",
    "        for P in self.PL:\n",
    "            ts+=P.Pruns\n",
    "        print(ts)\n",
    "    def max_run(self):\n",
    "        mx=self.PL[0]\n",
    "        for i in self.PL:\n",
    "            if i.Pruns>mx.Pruns:\n",
    "                mx=i\n",
    "        print(mx.Pname)\n",
    "    def max_wickets(self):\n",
    "        mx=self.PL[0]\n",
    "        for i in self.PL:\n",
    "            if i.Pw>mx.Pw:\n",
    "                mx=i\n",
    "        print(mx.Pw)         \n",
    "India=Team(int(input('No of Players:')))\n",
    "# Happy=Player('Happy','India',30,120,5674,12)\n",
    "# Player.Player_info_display()\n",
    "India.Team_score()\n",
    "India.max_run()\n",
    "India.max_wickets()\n",
    "        \n",
    "        "
   ]
  },
  {
   "cell_type": "markdown",
   "metadata": {},
   "source": [
    "# Inheritance:\n",
    "Inheritance represents the is a relationship between the entities.\n",
    "\n",
    "Inheritance is the process of accessing the properties of one class into another class.\n",
    "\n",
    "The class from which the properties are acquired are known as Base/Parent/Superclass.\n",
    "\n",
    "The class to which the properties are acquired are known as derived /child/Sub class.\n",
    "\n",
    "# Types of Inheritance:\n",
    "1.Single Inheritance\n",
    "2.Multiple Inheritance\n",
    "3.Hierarchical Inheritance\n",
    "4.Multi-Level Inheritance\n",
    "5.Hybrid Inheritance\n",
    "\n",
    "# Single Inheritance:\n",
    "1.In this type of inheritance only child is inherited from one parent.\n",
    "2.Parent class properties can be accessed into child class.\n",
    "3.But child class properties can not be accessed by the parent class.\n",
    "\n",
    "# Syntax:\n",
    "class Parent:\n",
    "    Pass\n",
    "class Child(Parent):\n",
    "    Pass\n",
    "\n",
    "# Method Resolution Order(MRO):\n",
    "1.It is used for specifying the order in which it will execute the methods and variable in of inheritance.\n",
    "2.Direction of execution the method is left to right."
   ]
  },
  {
   "cell_type": "code",
   "execution_count": null,
   "metadata": {},
   "outputs": [],
   "source": [
    "# Example:\n",
    "class A:\n",
    "    money=100000\n",
    "    bike='Hero Honda'\n",
    "class B(A):\n",
    "    bike=\"Himalayan\"\n",
    "    car=\"RRR\"\n",
    "OA=A()\n",
    "OB=B()\n",
    "OB.money=200000\n",
    "print(A.money)\n",
    "print(OA.money)\n",
    "print(B.money)\n",
    "print(OB.money)"
   ]
  },
  {
   "cell_type": "code",
   "execution_count": 10,
   "metadata": {},
   "outputs": [
    {
     "name": "stdout",
     "output_type": "stream",
     "text": [
      "Withdraw is successful\n",
      "Your balance is 9000\n",
      "Deposite is Successful 10000\n",
      "Bank name is  SBI\n",
      "Bank Ifsc is  SBIN1234\n",
      "Bank branch is  Hyderabad\n"
     ]
    }
   ],
   "source": [
    "class Bank_V1:\n",
    "    bank_name='SBI'\n",
    "    bank_ifsc='SBIN1234'\n",
    "    bank_branch='Hyderabad'\n",
    "    def __init__(self,name,age,account,balance):\n",
    "        self.name=name\n",
    "        self.age=age\n",
    "        self.account=account\n",
    "        self.balance=balance\n",
    "    @classmethod\n",
    "    def display_bank_details(cls):\n",
    "        print('Bank name is ',cls.bank_name)\n",
    "        print('Bank Ifsc is ',cls.bank_ifsc)\n",
    "        print('Bank branch is ',cls.bank_branch)\n",
    "    @staticmethod\n",
    "    def get_int_data():\n",
    "        data=int(input('Enter int data:'))\n",
    "        return data\n",
    "        \n",
    "    def withdraw(self):\n",
    "        amount=self.get_int_data()\n",
    "        if self.balance>=amount:\n",
    "            self.balance-=amount\n",
    "            print('Withdraw is successful')\n",
    "            print(f'Your balance is {self.balance}')\n",
    "        else:\n",
    "            print('Low Balance')\n",
    "            print(f'Your Balance is {self.balance}')\n",
    "class Bank_V2(Bank_V1):\n",
    "    def deposite(self):\n",
    "        amount=self.get_int_data()\n",
    "        self.balance+=amount\n",
    "        print('Deposite is Successful',self.balance)\n",
    "Himanshu=Bank_V2('Happy',12,1234,10000)\n",
    "Himanshu.withdraw()\n",
    "Himanshu.deposite()\n",
    "Himanshu.display_bank_details()\n",
    "        \n",
    "\n",
    "    \n",
    "            "
   ]
  },
  {
   "cell_type": "code",
   "execution_count": 16,
   "metadata": {},
   "outputs": [
    {
     "name": "stdout",
     "output_type": "stream",
     "text": [
      "Deposite is Successful 11000\n",
      "Withdraw is successful\n",
      "Your balance is 9000\n"
     ]
    }
   ],
   "source": [
    "class Bank_V1:\n",
    "    bank_name='SBI'\n",
    "    bank_ifsc='SBIN1234'\n",
    "    bank_branch='Hyderabad'\n",
    "    def __init__(self,name,age,account,balance):\n",
    "        self.name=name\n",
    "        self.age=age\n",
    "        self.account=account\n",
    "        self.balance=balance\n",
    "    @classmethod\n",
    "    def display_bank_details(cls):\n",
    "        print('Bank name is ',cls.bank_name)\n",
    "        print('Bank Ifsc is ',cls.bank_ifsc)\n",
    "        print('Bank branch is ',cls.bank_branch)\n",
    "    @staticmethod\n",
    "    def get_int_data():\n",
    "        data=int(input('Enter int data:'))\n",
    "        return data\n",
    "    \n",
    "    def customer_details(self):\n",
    "        print(f'Name of customer is:{self.name}')\n",
    "        print(f'Age of customer is:{self.age}')\n",
    "        print(f'Account of customer is:{self.account}')\n",
    "        print(f'Balance of customer is:{self.balance}')\n",
    "        print(f'Pin of customer is:{self.pin}')\n",
    "        print(f'Aadhar of customer is:{self.aadhar}')\n",
    "        \n",
    "    def withdraw(self):\n",
    "        amount=self.get_int_data()\n",
    "        if self.balance>=amount:\n",
    "            self.balance-=amount\n",
    "            print('Withdraw is successful')\n",
    "            print(f'Your balance is {self.balance}')\n",
    "        else:\n",
    "            print('Low Balance')\n",
    "            print(f'Your Balance is {self.balance}')\n",
    "class Bank_v2(Bank_V1):\n",
    "    bank_name='SBI'\n",
    "    bank_ifsc='SNIN1234'\n",
    "    bank_branch='Bangalore'\n",
    "    bank_Mobile='8429825324'\n",
    "    def __init__(self,name,age,account,balance,pin,aadhar):\n",
    "        self.name=name\n",
    "        self.age=age\n",
    "        self.account=account\n",
    "        self.balance=balance\n",
    "        self.pin=pin\n",
    "        self.aadhar=aadhar\n",
    "    @classmethod\n",
    "    def display_bank_details(cls):\n",
    "        print('Bank name is ',cls.bank_name)\n",
    "        print('Bank Ifsc is ',cls.bank_ifsc)\n",
    "        print('Bank branch is ',cls.bank_branch)\n",
    "        print('Bank Mob.No is ',cls.bank_Mobile)\n",
    "        \n",
    "    def deposite(self):\n",
    "        amount=self.get_int_data()\n",
    "        self.balance+=amount\n",
    "        print('Deposite is Successful',self.balance)\n",
    "        \n",
    "Himanshu=Bank_v2('Himanshu',12,1234,10000,123,9876)\n",
    "# Himanshu.display_bank_details()\n",
    "# Himanshu.customer_details()\n",
    "Himanshu.deposite()\n",
    "Himanshu.withdraw()\n",
    "\n",
    "        "
   ]
  }
 ],
 "metadata": {
  "kernelspec": {
   "display_name": "base",
   "language": "python",
   "name": "python3"
  },
  "language_info": {
   "codemirror_mode": {
    "name": "ipython",
    "version": 3
   },
   "file_extension": ".py",
   "mimetype": "text/x-python",
   "name": "python",
   "nbconvert_exporter": "python",
   "pygments_lexer": "ipython3",
   "version": "3.9.12"
  },
  "orig_nbformat": 4
 },
 "nbformat": 4,
 "nbformat_minor": 2
}

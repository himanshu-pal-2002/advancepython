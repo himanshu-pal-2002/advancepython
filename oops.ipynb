{
 "cells": [
  {
   "cell_type": "code",
   "execution_count": 2,
   "metadata": {},
   "outputs": [
    {
     "name": "stdout",
     "output_type": "stream",
     "text": [
      "Name is : Himanshu\n",
      "Class is : 5\n",
      "Address is : Bidhuna\n"
     ]
    }
   ],
   "source": [
    "def Student(name,Class,Address):\n",
    "    print('Name is :',name)\n",
    "    print('Class is :',Class)\n",
    "    print('Address is :',Address)\n",
    "Student('Himanshu',5,'Bidhuna')"
   ]
  },
  {
   "cell_type": "markdown",
   "metadata": {},
   "source": [
    "Behaviour or Methods.\n",
    "1.Object Methods\n",
    "2.Class Methods\n",
    "3.Static Methods"
   ]
  },
  {
   "cell_type": "markdown",
   "metadata": {},
   "source": [
    "Object Method.\n",
    "1.These are used for defining,accessing,modifying the specific properties of an object.\n",
    "2.While defining object method we have to provide a mandatory argument (self) which is responsible for \n",
    "considering the current object address.\n",
    "3.Object method belongs to object.\n",
    "4.object methods are accessing only by using the object reference only.\n",
    "\n",
    "Syntax for accessing the object method by using object.\n",
    "    objectname.methodname(arguments)\n",
    "\n",
    "Syntax for accessing object method by using class name.\n",
    "    classname.methodname(objectreference,arguments)"
   ]
  },
  {
   "cell_type": "markdown",
   "metadata": {},
   "source": [
    "Class Method.\n",
    "1.class method are used for accessing,defining and modifying the class members.\n",
    "2.class methods also take one mandatory argument called (cls).\n",
    "3.cls is used for referring the class address.\n",
    "4.each and every class method decorated with classmethod decorator.\n",
    "5.we can acccess class method with both object as well as class but modifies class member directly.\n",
    "\n",
    "Syntax for creating the class method.\n",
    "\n",
    "class classname:\n",
    "    @classmethod\n",
    "    def methodname(cls,arguments):\n",
    "    pass"
   ]
  },
  {
   "cell_type": "markdown",
   "metadata": {},
   "source": [
    "Static Metod.\n",
    "1.Static Method are neither belongs to class nor objects.\n",
    "2.No need of passing any of the arguments like self or cls.\n",
    "3.By using static methods we cannot access or modify the class or object state.\n",
    "4.These methods are defined just to get some data while execution of objects or class methods.\n",
    "5.Static methods are decorated by using the staticmethod decorator.\n",
    "\n",
    "Syntax:\n",
    "class classname:\n",
    "    @staticmethod\n",
    "    def method():\n",
    "    content"
   ]
  },
  {
   "cell_type": "markdown",
   "metadata": {},
   "source": [
    "Example of Aggregation in oops."
   ]
  },
  {
   "cell_type": "code",
   "execution_count": 5,
   "metadata": {},
   "outputs": [
    {
     "name": "stdout",
     "output_type": "stream",
     "text": [
      "Name of student is: Happy\n",
      "Age of student is: 12\n",
      "Id of student is: 2345\n",
      "name of city is: Bangalore\n",
      "name of state is: Karnataka\n",
      "name of country is: Bharat\n",
      "Address of student is: None\n"
     ]
    }
   ],
   "source": [
    "class Address:\n",
    "    def __init__(self,c,s,co):\n",
    "        self.city=c\n",
    "        self.state=s\n",
    "        self.country=co\n",
    "    def display_address(self):\n",
    "        print('name of city is:',self.city)\n",
    "        print('name of state is:',self.state)\n",
    "        print('name of country is:',self.country)\n",
    "Bangaloreobject=Address('Bangalore','Karnataka','Bharat')\n",
    "# Bangaloreobject.address()\n",
    "class Student:\n",
    "    def __init__(self,n,a,i,ado):\n",
    "        self.sname=n\n",
    "        self.sage=a\n",
    "        self.sid=i\n",
    "        self.saddress=ado\n",
    "    def student_info(self):\n",
    "        print('Name of student is:',self.sname)\n",
    "        print('Age of student is:',self.sage)\n",
    "        print('Id of student is:',self.sid)\n",
    "        print('Address of student is:',self.saddress.display_address())\n",
    "        \n",
    "Nikky=Student('Happy',12,2345,Bangaloreobject)\n",
    "Nikky.student_info()"
   ]
  },
  {
   "cell_type": "code",
   "execution_count": 4,
   "metadata": {},
   "outputs": [
    {
     "name": "stdout",
     "output_type": "stream",
     "text": [
      "Name of Player: Himanshu\n",
      "Country of Player: India\n",
      "Age of Player: 20\n",
      "No of Matches Played: 12\n",
      "No of Runs Scored: 1002\n",
      "No of Wickets Taken: 10\n"
     ]
    }
   ],
   "source": [
    "class Player:\n",
    "    def __init__(self,pn,pc,pa,nom,nor,now):\n",
    "        self.Pname=pn\n",
    "        self.Pcountry=pc\n",
    "        self.Page=pa\n",
    "        self.noofmatches=nom\n",
    "        self.noofruns=nor\n",
    "        self.noofwickets=now\n",
    "    def Player_info_display(self):\n",
    "        print('Name of Player:',self.Pname)\n",
    "        print('Country of Player:',self.Pcountry)\n",
    "        print('Age of Player:',self.Page)\n",
    "        print('No of Matches Played:',self.noofmatches)\n",
    "        print('No of Runs Scored:',self.noofruns)\n",
    "        print('No of Wickets Taken:',self.noofwickets)\n",
    "Happy=Player('Himanshu','India',20,12,1002,10)\n",
    "Happy.Player_info_display()\n",
    "        \n",
    "class Team:\n",
    "    def __init__(self,nop):\n",
    "        self.noofplayers=nop\n",
    "        self.playerlist=[]\n",
    "        for i in range(1,nop+1):\n",
    "            Pname=input(f'{i}=Pname')\n",
    "            Pcountry=input(f'{i}=Pcountry')\n",
    "            Page=input(f'{i}=Page')\n",
    "            noofmatches=input(f'{i}=noofmatches')\n",
    "            noofruns=input(f'{i}=noofruns')\n",
    "            noofwickets=input(f'{i}=noofwickets')\n",
    "            Po=Player(Pname,Pcountry,Page,noofmatches,noofruns,noofwickets)\n",
    "            self.playerlist.append(Po)\n",
    "    def Team_score(self):\n",
    "        pass\n",
    "    def Max_run(self):\n",
    "        pass\n",
    "    def Wicket_Taker(self):\n",
    "        pass          \n",
    "        \n",
    "        "
   ]
  }
 ],
 "metadata": {
  "kernelspec": {
   "display_name": "base",
   "language": "python",
   "name": "python3"
  },
  "language_info": {
   "codemirror_mode": {
    "name": "ipython",
    "version": 3
   },
   "file_extension": ".py",
   "mimetype": "text/x-python",
   "name": "python",
   "nbconvert_exporter": "python",
   "pygments_lexer": "ipython3",
   "version": "3.9.12"
  },
  "orig_nbformat": 4
 },
 "nbformat": 4,
 "nbformat_minor": 2
}

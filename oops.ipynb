{
 "cells": [
  {
   "cell_type": "code",
   "execution_count": 12,
   "metadata": {},
   "outputs": [
    {
     "name": "stdout",
     "output_type": "stream",
     "text": [
      "30\n"
     ]
    }
   ],
   "source": [
    "# Lambda\n",
    "l=lambda x,y : x+y\n",
    "print(l(10,20))\n"
   ]
  },
  {
   "cell_type": "code",
   "execution_count": 18,
   "metadata": {},
   "outputs": [
    {
     "name": "stdout",
     "output_type": "stream",
     "text": [
      "Name is rim\n",
      "Age is 23\n",
      "Name is ram\n",
      "Age is 45\n"
     ]
    }
   ],
   "source": [
    "# Constructor:\n",
    "class Rimjhim:\n",
    "    def __init__(self,name,age):\n",
    "        self.name = name\n",
    "        self.age = age\n",
    "    def show_data(self):\n",
    "        print('Name is',self.name)\n",
    "        print('Age is',self.age)\n",
    "        \n",
    "v = Rimjhim(\"rim\" , 23)\n",
    "h = Rimjhim(\"ram\", 45)\n",
    "v.show_data()\n",
    "h.show_data()\n"
   ]
  },
  {
   "cell_type": "markdown",
   "metadata": {},
   "source": [
    "# Inheritance:\n",
    "1.Single inheritance:\n",
    "2.Multiple inheritance\n",
    "3.Multilevel inheritance\n",
    "4.Hirarchical inheritance\n",
    "5.Hybrid inheritance"
   ]
  },
  {
   "cell_type": "code",
   "execution_count": null,
   "metadata": {},
   "outputs": [],
   "source": [
    "class A:\n",
    "    pass\n",
    "class B(A):\n",
    "    pass\n",
    "class C(A):\n",
    "    pass"
   ]
  },
  {
   "cell_type": "markdown",
   "metadata": {},
   "source": [
    "# Polymorphism:"
   ]
  },
  {
   "cell_type": "code",
   "execution_count": 2,
   "metadata": {},
   "outputs": [
    {
     "name": "stdout",
     "output_type": "stream",
     "text": [
      "Name is : Himanshu\n",
      "Class is : 5\n",
      "Address is : Bidhuna\n"
     ]
    }
   ],
   "source": [
    "def Student(name,Class,Address):\n",
    "    print('Name is :',name)\n",
    "    print('Class is :',Class)\n",
    "    print('Address is :',Address)\n",
    "Student('Himanshu',5,'Bidhuna')"
   ]
  },
  {
   "cell_type": "markdown",
   "metadata": {},
   "source": [
    "# Recursion Function:\n",
    "It is the process of calling the function within itself untill the given terminating condition is satisfied.\n",
    "\n",
    "# Benefits of Recursion.\n",
    "1.It reduces the code complexity.\n",
    "2.when we want to repeat the same process recursion is the best way.\n",
    "\n",
    "# Demirits of Recursion.\n",
    "Memory Consumption is more.\n",
    "\n",
    "# Syntax:\n",
    "def Recursive_function():\n",
    "    statements\n",
    "    if condition:\n",
    "        termination\n",
    "    Recursive_function"
   ]
  },
  {
   "cell_type": "code",
   "execution_count": 1,
   "metadata": {},
   "outputs": [
    {
     "data": {
      "text/plain": [
       "55"
      ]
     },
     "execution_count": 1,
     "metadata": {},
     "output_type": "execute_result"
    }
   ],
   "source": [
    "def sum(n):\n",
    "    if n==0:\n",
    "        return 0\n",
    "    return (n+sum(n-1))\n",
    "sum(10)"
   ]
  },
  {
   "cell_type": "code",
   "execution_count": 2,
   "metadata": {},
   "outputs": [
    {
     "name": "stdout",
     "output_type": "stream",
     "text": [
      "24\n"
     ]
    }
   ],
   "source": [
    "def fact(n):\n",
    "    if n==0:\n",
    "        return 1\n",
    "    return n*fact(n-1)\n",
    "print(fact(4))"
   ]
  },
  {
   "cell_type": "markdown",
   "metadata": {},
   "source": [
    "# Constructor:\n",
    "1.Constructor is the special method which call automatically when new object is created.\n",
    "2.We call __init__ as constructor bcoz it is used for initializing the object members.(Constructing Object)\n",
    "3.Self is the mandatory argument we have to pass for the __init__.\n",
    "4.Self is used for considering the instance address.\n",
    "\n",
    "# Example of Constructor:\n",
    "class A:\n",
    "    def __init__(self):\n",
    "      print('I am happy')\n",
    "      print('I got a call',self,'is created')\n",
    "a1=A()\n",
    "a2=A()\n",
    "\n",
    "# Types of Constructor :\n",
    "1.Constructor with no arguments\n",
    "2.Parametrised Constructor \n",
    "3.Constructor with default argument"
   ]
  },
  {
   "cell_type": "markdown",
   "metadata": {},
   "source": [
    "Behaviour or Methods.\n",
    "1.Object Methods\n",
    "2.Class Methods\n",
    "3.Static Methods"
   ]
  },
  {
   "cell_type": "markdown",
   "metadata": {},
   "source": [
    "# Object Method.\n",
    "1.These are used for defining,accessing,modifying the specific properties of an object.\n",
    "2.While defining object method we have to provide a mandatory argument (self) which is responsible for \n",
    "considering the current object address.\n",
    "3.Object method belongs to object.\n",
    "4.object methods are accessing only by using the object reference only.\n",
    "\n",
    "# Syntax for accessing the object method by using object.\n",
    "    objectname.methodname(arguments)\n",
    "\n",
    "# Syntax for accessing object method by using class name.\n",
    "    classname.methodname(objectreference,arguments)"
   ]
  },
  {
   "cell_type": "markdown",
   "metadata": {},
   "source": [
    "# Class Method.\n",
    "1.class method are used for accessing,defining and modifying the class members.\n",
    "2.class methods also take one mandatory argument called (cls).\n",
    "3.cls is used for referring the class address.\n",
    "4.each and every class method decorated with classmethod decorator.\n",
    "5.we can acccess class method with both object as well as class but modifies class member directly.\n",
    "\n",
    "# Syntax for creating the class method.\n",
    "\n",
    "class classname:\n",
    "    @classmethod\n",
    "    def methodname(cls,arguments):\n",
    "    pass"
   ]
  },
  {
   "cell_type": "markdown",
   "metadata": {},
   "source": [
    "# Static Metod.\n",
    "1.Static Method are neither belongs to class nor objects.\n",
    "2.No need of passing any of the arguments like self or cls.\n",
    "3.By using static methods we cannot access or modify the class or object state.\n",
    "4.These methods are defined just to get some data while execution of objects or class methods.\n",
    "5.Static methods are decorated by using the staticmethod decorator.\n",
    "\n",
    "# Syntax:\n",
    "class classname:\n",
    "    @staticmethod\n",
    "    def method():\n",
    "    content"
   ]
  },
  {
   "cell_type": "markdown",
   "metadata": {},
   "source": [
    "Example of Aggregation in oops."
   ]
  },
  {
   "cell_type": "code",
   "execution_count": 5,
   "metadata": {},
   "outputs": [
    {
     "name": "stdout",
     "output_type": "stream",
     "text": [
      "Name of student is: Happy\n",
      "Age of student is: 12\n",
      "Id of student is: 2345\n",
      "name of city is: Bangalore\n",
      "name of state is: Karnataka\n",
      "name of country is: Bharat\n",
      "Address of student is: None\n"
     ]
    }
   ],
   "source": [
    "class Address:\n",
    "    def __init__(self,c,s,co):\n",
    "        self.city=c\n",
    "        self.state=s\n",
    "        self.country=co\n",
    "    def display_address(self):\n",
    "        print('name of city is:',self.city)\n",
    "        print('name of state is:',self.state)\n",
    "        print('name of country is:',self.country)\n",
    "Bangaloreobject=Address('Bangalore','Karnataka','Bharat')\n",
    "# Bangaloreobject.address()\n",
    "class Student:\n",
    "    def __init__(self,n,a,i,ado):\n",
    "        self.sname=n\n",
    "        self.sage=a\n",
    "        self.sid=i\n",
    "        self.saddress=ado\n",
    "    def student_info(self):\n",
    "        print('Name of student is:',self.sname)\n",
    "        print('Age of student is:',self.sage)\n",
    "        print('Id of student is:',self.sid)\n",
    "        print('Address of student is:',self.saddress.display_address())\n",
    "        \n",
    "Nikky=Student('Happy',12,2345,Bangaloreobject)\n",
    "Nikky.student_info()"
   ]
  },
  {
   "cell_type": "code",
   "execution_count": 8,
   "metadata": {},
   "outputs": [
    {
     "name": "stdout",
     "output_type": "stream",
     "text": [
      "678\n",
      "Happy\n",
      "1\n"
     ]
    }
   ],
   "source": [
    "class Player:\n",
    "    def __init__(self,Pn,Pc,Pa,Pnom,Pnor,Pnow):\n",
    "        self.Pname=Pn\n",
    "        self.Pcountry=Pc\n",
    "        self.Page=Pa\n",
    "        self.Pmatches=Pnom\n",
    "        self.Pruns=Pnor\n",
    "        self.Pw=Pnow\n",
    "    def Player_info_display(self):\n",
    "        print('Name of Player:',self.Pname)\n",
    "        print('Country of Player:',self.Pcountry)\n",
    "        print('Age of Player:',self.Page)\n",
    "        print('No of Matches Played:',self.noofmatches)\n",
    "        print('No of Runs Scored:',self.noofruns)\n",
    "        print('No of Wickets Taken:',self.noofwickets)\n",
    "\n",
    "class Team:\n",
    "    def __init__(self,n):\n",
    "        self.nop=n\n",
    "        self.PL=[]\n",
    "        for i in range(self.nop):\n",
    "            Pn=input('Name')\n",
    "            Pc=input('Country')\n",
    "            Pa=int(input('Age'))\n",
    "            Pnom=int(input('noofmatches'))\n",
    "            Pnor=int(input('noofruns'))\n",
    "            Pnow=int(input('noofwickets'))\n",
    "            Po=Player(Pn,Pc,Pa,Pnom,Pnor,Pnow)\n",
    "            self.PL.append(Po)\n",
    "    def Team_score(self):\n",
    "        ts=0\n",
    "        for P in self.PL:\n",
    "            ts+=P.Pruns\n",
    "        print(ts)\n",
    "    def max_run(self):\n",
    "        mx=self.PL[0]\n",
    "        for i in self.PL:\n",
    "            if i.Pruns>mx.Pruns:\n",
    "                mx=i\n",
    "        print(mx.Pname)\n",
    "    def max_wickets(self):\n",
    "        mx=self.PL[0]\n",
    "        for i in self.PL:\n",
    "            if i.Pw>mx.Pw:\n",
    "                mx=i\n",
    "        print(mx.Pw)         \n",
    "India=Team(int(input('No of Players:')))\n",
    "# Happy=Player('Happy','India',30,120,5674,12)\n",
    "# Player.Player_info_display()\n",
    "India.Team_score()\n",
    "India.max_run()\n",
    "India.max_wickets()\n",
    "        \n",
    "        "
   ]
  },
  {
   "cell_type": "markdown",
   "metadata": {},
   "source": [
    "# Abstraction:\n",
    "Abstraction is used fro hiding the internal functionalities."
   ]
  },
  {
   "cell_type": "markdown",
   "metadata": {},
   "source": [
    "# Aggregation :\n",
    "1.It is the process of creating use an object of one class in another class.\n",
    "\n",
    "2.Aggregation represents Has-A-Relationship of Real-Time Entity.\n",
    "\n",
    "3.Aggregation can be achieved by Pointing to reference of object or creating inside the other class.\n",
    "\n",
    "Example of Has-A-Relationship are\n",
    "\n",
    "   Student Has a Address\n",
    "   Addressclass object should be created in Student Class."
   ]
  },
  {
   "cell_type": "markdown",
   "metadata": {},
   "source": [
    "# Inheritance:\n",
    "Inheritance represents the is a relationship between the entities.\n",
    "\n",
    "Inheritance is the process of accessing the properties of one class into another class.\n",
    "\n",
    "The class from which the properties are acquired are known as Base/Parent/Superclass.\n",
    "\n",
    "The class to which the properties are acquired are known as derived /child/Sub class.\n",
    "\n",
    "# Types of Inheritance:\n",
    "1.Single Inheritance\n",
    "2.Multiple Inheritance\n",
    "3.Hierarchical Inheritance\n",
    "4.Multi-Level Inheritance\n",
    "5.Hybrid Inheritance\n",
    "\n",
    "# Single Inheritance:\n",
    "1.In this type of inheritance only child is inherited from one parent.\n",
    "2.Parent class properties can be accessed into child class.\n",
    "3.But child class properties can not be accessed by the parent class.\n",
    "\n",
    "# Syntax:\n",
    "class Parent:\n",
    "    Pass\n",
    "class Child(Parent):\n",
    "    Pass\n",
    "\n",
    "# Method Resolution Order(MRO):\n",
    "1.It is used for specifying the order in which it will execute the methods and variable in of inheritance.\n",
    "2.Direction of execution the method is left to right."
   ]
  },
  {
   "cell_type": "code",
   "execution_count": null,
   "metadata": {},
   "outputs": [],
   "source": [
    "# Example:\n",
    "class A:\n",
    "    money=100000\n",
    "    bike='Hero Honda'\n",
    "class B(A):\n",
    "    bike=\"Himalayan\"\n",
    "    car=\"RRR\"\n",
    "OA=A()\n",
    "OB=B()\n",
    "OB.money=200000\n",
    "print(A.money)\n",
    "print(OA.money)\n",
    "print(B.money)\n",
    "print(OB.money)"
   ]
  },
  {
   "cell_type": "code",
   "execution_count": 1,
   "metadata": {},
   "outputs": [
    {
     "name": "stdout",
     "output_type": "stream",
     "text": [
      "Withdraw is successful\n",
      "Your balance is 9000\n",
      "Deposite is Successful 11000\n",
      "Bank name is  SBI\n",
      "Bank Ifsc is  SBIN1234\n",
      "Bank branch is  Hyderabad\n"
     ]
    }
   ],
   "source": [
    "class Bank_V1:\n",
    "    bank_name='SBI'\n",
    "    bank_ifsc='SBIN1234'\n",
    "    bank_branch='Hyderabad'\n",
    "    def __init__(self,name,age,account,balance):\n",
    "        self.name=name\n",
    "        self.age=age\n",
    "        self.account=account\n",
    "        self.balance=balance\n",
    "    @classmethod\n",
    "    def display_bank_details(cls):\n",
    "        print('Bank name is ',cls.bank_name)\n",
    "        print('Bank Ifsc is ',cls.bank_ifsc)\n",
    "        print('Bank branch is ',cls.bank_branch)\n",
    "    @staticmethod\n",
    "    def get_int_data():\n",
    "        data=int(input('Enter int data:'))\n",
    "        return data\n",
    "    \n",
    "        \n",
    "    def withdraw(self):\n",
    "        amount=self.get_int_data()\n",
    "        if self.balance>=amount:\n",
    "            self.balance-=amount\n",
    "            print('Withdraw is successful')\n",
    "            print(f'Your balance is {self.balance}')\n",
    "        else:\n",
    "            print('Low Balance')\n",
    "            print(f'Your Balance is {self.balance}')\n",
    "class Bank_V2(Bank_V1):\n",
    "    def deposite(self):\n",
    "        amount=self.get_int_data()\n",
    "        self.balance+=amount\n",
    "        print('Deposite is Successful',self.balance)\n",
    "Himanshu=Bank_V2('Happy',12,1234,10000)\n",
    "Himanshu.withdraw()\n",
    "Himanshu.deposite()\n",
    "Himanshu.display_bank_details()\n",
    "        \n",
    "\n",
    "    \n",
    "            "
   ]
  },
  {
   "cell_type": "code",
   "execution_count": null,
   "metadata": {},
   "outputs": [],
   "source": [
    "class Bank_V1:\n",
    "    bank_name='SBI'\n",
    "    bank_ifsc='SBIN1234'\n",
    "    bank_branch='Hyderabad'\n",
    "    def __init__(self,name,age,account,balance):\n",
    "        self.name=name\n",
    "        self.age=age\n",
    "        self.account=account\n",
    "        self.balance=balance\n",
    "    @classmethod\n",
    "    def display_bank_details(cls):\n",
    "        print('Bank name is ',cls.bank_name)\n",
    "        print('Bank Ifsc is ',cls.bank_ifsc)\n",
    "        print('Bank branch is ',cls.bank_branch)\n",
    "    @staticmethod\n",
    "    def get_int_data():\n",
    "        data=int(input('Enter int data:'))\n",
    "        return data\n",
    "   \n",
    "    def withdraw(self):\n",
    "        amount=self.get_int_data()\n",
    "        if self.balance>=amount:\n",
    "            self.balance-=amount\n",
    "            print('Withdraw is successful')\n",
    "            print(f'Your balance is {self.balance}')\n",
    "        else:\n",
    "            print('Low Balance')\n",
    "            print(f'Your Balance is {self.balance}')\n",
    "            \n",
    "class Bank_v2(Bank_V1):\n",
    "    bank_branch='Bangalore'\n",
    "    bank_Mobile=8429825324\n",
    "    def __init__(self,name,age,account,balance,pin,aadhar):\n",
    "        self.name=name\n",
    "        self.age=age\n",
    "        self.account=account\n",
    "        self.balance=balance\n",
    "        self.pin=pin\n",
    "        self.aadhar=aadhar\n",
    "    @classmethod\n",
    "    def display_bank_details(cls):\n",
    "        print('Bank name is ',cls.bank_name)\n",
    "        print('Bank Ifsc is ',cls.bank_ifsc)\n",
    "        print('Bank branch is ',cls.bank_branch)\n",
    "        print('Bank Mob.No is ',cls.bank_Mobile)\n",
    "        \n",
    "    def customer_details(self):\n",
    "        print(f'Name of customer is:{self.name}')\n",
    "        print(f'Age of customer is:{self.age}')\n",
    "        print(f'Account of customer is:{self.account}')\n",
    "        print(f'Balance of customer is:{self.balance}')\n",
    "        print(f'Pin of customer is:{self.pin}')\n",
    "        print(f'Aadhar of customer is:{self.aadhar}')\n",
    "        \n",
    "    def deposite(self):\n",
    "        amount=self.get_int_data()\n",
    "        self.balance+=amount\n",
    "        print('Deposite is Successful',self.balance)\n",
    "        \n",
    "Himanshu=Bank_v2('Himanshu',12,1234,10000,123,9876)\n",
    "# Himanshu.display_bank_details()\n",
    "# Himanshu.customer_details()\n",
    "Himanshu.deposite()\n",
    "Himanshu.withdraw()\n",
    "\n",
    "        "
   ]
  },
  {
   "cell_type": "markdown",
   "metadata": {},
   "source": [
    "# Polymorphism:\n",
    "Polymorphism is a process of same data having different functionality.\n",
    "\n",
    "We can achieve Polymorphism in two Ways.\n",
    "1.Method Overriding\n",
    "2.Method Overloading\n",
    "\n",
    "# Method Overriding:\n",
    "# In case of inheritance we perform method overriding.\n",
    "    1.It is a Process of changing the implementation of super class method in sub class.\n",
    "    2.To override the super class method we have implemented a method with a same name in sub class.\n",
    "    3.We override __init__ stataic methods,class methods and as well object methods.\n",
    "# Implementation Of method overriding and chaining process.\n",
    "    1.First Bank version 1 should be defined as that of previous example."
   ]
  },
  {
   "cell_type": "code",
   "execution_count": 12,
   "metadata": {},
   "outputs": [
    {
     "name": "stdout",
     "output_type": "stream",
     "text": [
      "Deposite is Successful 6432\n"
     ]
    }
   ],
   "source": [
    "class Bank_V1:\n",
    "    bank_name='SBI'\n",
    "    bank_ifsc='SBIN1234'\n",
    "    bank_branch='Hyderabad'\n",
    "    def __init__(self,name,age,account,balance):\n",
    "        self.name=name\n",
    "        self.age=age\n",
    "        self.account=account\n",
    "        self.balance=balance\n",
    "    @classmethod\n",
    "    def display_bank_details(cls):\n",
    "        print('Bank name is ',cls.bank_name)\n",
    "        print('Bank Ifsc is ',cls.bank_ifsc)\n",
    "        print('Bank branch is ',cls.bank_branch)\n",
    "        \n",
    "    def customer_details(self):\n",
    "        print(f'Name of customer is:{self.name}')\n",
    "        print(f'Age of customer is:{self.age}')\n",
    "        print(f'Account of customer is:{self.account}')\n",
    "        print(f'Balance of customer is:{self.balance}')\n",
    "        # print(f'Pin of customer is:{self.pin}')\n",
    "        # print(f'Aadhar of customer is:{self.aadhar}')    \n",
    "        \n",
    "    @staticmethod\n",
    "    def get_int_data():\n",
    "        data=int(input('Enter int data:'))\n",
    "        return data\n",
    "   \n",
    "    def withdraw(self):\n",
    "        amount=self.get_int_data()\n",
    "        if self.balance>=amount:\n",
    "            self.balance-=amount\n",
    "            print('Withdraw is successful')\n",
    "            print(f'Your balance is {self.balance}')\n",
    "        else:\n",
    "            print('Low Balance')\n",
    "            print(f'Your Balance is {self.balance}')\n",
    "\n",
    "class Bank_v2():\n",
    "    bank_branch='Bangalore'\n",
    "    bank_mobile=8429825324\n",
    "    def __init__(self, name, age, account, balance,pin,aadhar):\n",
    "        Bank_V1.__init__(self,name,age,account,balance)\n",
    "        # super().__init__(name, age, account, balance)\n",
    "        self.pin=pin\n",
    "        self.aadhar=aadhar\n",
    "    @classmethod\n",
    "    def display_bank_details(cls):\n",
    "        # super().display_bank_details()\n",
    "        Bank_V1.display_bank_details()\n",
    "        print('Bank Mobiles is ',cls.bank_mobile)\n",
    "        \n",
    "    @staticmethod\n",
    "    def get_int_data():\n",
    "        data=int(input('Enter int data:'))\n",
    "        return data\n",
    "        \n",
    "    def customer_details(self):\n",
    "        # super().customer_details()\n",
    "        Bank_V1.customer_details(self)\n",
    "        print(f'Aadhar of customer is {self.aadhar}')\n",
    "        \n",
    "    def deposite(self):\n",
    "        amount=self.get_int_data()\n",
    "        self.balance+=amount\n",
    "        print('Deposite is Successful',self.balance)\n",
    "Himanshu=Bank_v2('Happy',21,1234,5432,123,12345)\n",
    "# Himanshu.customer_details()\n",
    "# Himanshu.withdraw()\n",
    "Himanshu.deposite()\n",
    "    "
   ]
  },
  {
   "cell_type": "markdown",
   "metadata": {},
   "source": [
    "# Method Overloading:\n",
    "1.It is a process of defining a method with a same name multiple times in a same class but with different arguments.\n",
    "2.In Python Method ovrloading is not possible.\n",
    "3.Partially we can achieve it by providing default arguments."
   ]
  },
  {
   "cell_type": "markdown",
   "metadata": {},
   "source": [
    "# Multiple Inheritance:\n",
    "It is a process of inheriting the properties of multiple parent class into single child class."
   ]
  },
  {
   "cell_type": "markdown",
   "metadata": {},
   "source": [
    "# Example of Multiple Inheritance by using Transport class."
   ]
  },
  {
   "cell_type": "code",
   "execution_count": 9,
   "metadata": {},
   "outputs": [
    {
     "name": "stdout",
     "output_type": "stream",
     "text": [
      "This is a Benz Car\n",
      "This is BMW car\n",
      "This is volvo bus\n",
      "This is Eicher Truck\n",
      "This ia Indigo Plane\n"
     ]
    }
   ],
   "source": [
    "class Car():\n",
    "    def Benz(self):\n",
    "        print(\"This is a Benz Car\")\n",
    "class Bike():\n",
    "    def BMW(self):\n",
    "        print(\"This is BMW car\")\n",
    "class Bus():\n",
    "    def Volvo(self):\n",
    "        print(\"This is volvo bus\")\n",
    "class Truck():\n",
    "    def Eicher(self):\n",
    "        print(\"This is Eicher Truck\")\n",
    "class Plane():\n",
    "    def Indigo(self):\n",
    "        print(\"This ia Indigo Plane\")\n",
    "class Transport(Car,Bike,Bus,Truck,Plane):\n",
    "    def main(self):\n",
    "        print(\"This is a Main class\")\n",
    "B=Transport()\n",
    "B.Benz()\n",
    "B.BMW()\n",
    "B.Volvo()\n",
    "B.Eicher()\n",
    "B.Indigo()\n"
   ]
  },
  {
   "cell_type": "markdown",
   "metadata": {},
   "source": [
    "# Hierarchical Inheritance:\n",
    "It is a process of inheriting one parent class into more child class."
   ]
  },
  {
   "cell_type": "code",
   "execution_count": 5,
   "metadata": {},
   "outputs": [
    {
     "name": "stdout",
     "output_type": "stream",
     "text": [
      "I am your Parent.\n",
      "Father is calling.\n",
      "I am your Parent.\n",
      "Father is calling.\n"
     ]
    }
   ],
   "source": [
    "# Here, we will create the Base class   \n",
    "class Father:  \n",
    "    def func_1(self):  \n",
    "        print (\"I am your Parent.\")  \n",
    "  \n",
    "# Derived class1  \n",
    "class Happy(Father):  \n",
    "    def func_2(self):  \n",
    "        print (\"Father is calling.\")  \n",
    "  \n",
    "# Derivied class2  \n",
    "class Sania(Father):  \n",
    "    def func_3(self):  \n",
    "        print (\"Father is calling.\")  \n",
    "  \n",
    "# Driver's code  \n",
    "object1 = Happy()  \n",
    "object2 = Sania()  \n",
    "object1.func_1()  \n",
    "object1.func_2()  \n",
    "object2.func_1()  \n",
    "object2.func_3()  "
   ]
  },
  {
   "cell_type": "markdown",
   "metadata": {},
   "source": [
    "# Multilevel Inheritance:\n",
    "It is the process of inheriting the properties of one parent into one child and again inherited properties into another child class.\n",
    "\n",
    "# Syntax for Creating Multilevel Inheritance:\n",
    "class Parent:\n",
    "    Pass\n",
    "class Child1(Parent):\n",
    "    Pass\n",
    "class Child2(Chil1):\n",
    "    Pass"
   ]
  },
  {
   "cell_type": "code",
   "execution_count": 1,
   "metadata": {},
   "outputs": [
    {
     "name": "stdout",
     "output_type": "stream",
     "text": [
      "Father Enjoys Driving\n",
      "Mother Enjoys Cooking\n",
      "Child Loves Playing\n"
     ]
    }
   ],
   "source": [
    "# Example of multilevel \n",
    "\n",
    "class Father():\n",
    "    def Driving(self):\n",
    "        print(\"Father Enjoys Driving\")\n",
    "class Mother():\n",
    "    def Cooking(self):\n",
    "        print(\"Mother Enjoys Cooking\")\n",
    "class Child(Father, Mother):\n",
    "    def Playing(self):\n",
    "        print(\"Child Loves Playing\")\n",
    "c = Child()\n",
    "c.Driving()\n",
    "c.Cooking()\n",
    "c.Playing()"
   ]
  },
  {
   "cell_type": "markdown",
   "metadata": {},
   "source": [
    "# Hybrid Inheritance:\n",
    "In This type of inheritance we will represent more than one type of inheritance:\n",
    "\n",
    "# Combination of Multiple and Multilevel inheritance."
   ]
  },
  {
   "cell_type": "code",
   "execution_count": 1,
   "metadata": {},
   "outputs": [
    {
     "name": "stdout",
     "output_type": "stream",
     "text": [
      "__init__of A\n",
      "[<class '__main__.E'>, <class '__main__.C'>, <class '__main__.A'>, <class '__main__.D'>, <class '__main__.B'>, <class 'object'>]\n"
     ]
    }
   ],
   "source": [
    "class A:\n",
    "    x=10\n",
    "    def __init__(self,a,b):\n",
    "        print('__init__of A')\n",
    "        self.a=a\n",
    "        self.b=b \n",
    "class B():\n",
    "    y=100\n",
    "    def __init__(self,a):\n",
    "        print('__init__of B')\n",
    "        self.a=a \n",
    "class C(A):\n",
    "    pass\n",
    "class D(B):\n",
    "    pass\n",
    "class E(C,D):\n",
    "    pass\n",
    "OE=E(199,99)\n",
    "print(E.mro())        "
   ]
  },
  {
   "cell_type": "markdown",
   "metadata": {},
   "source": [
    "# Representation of Hierarchical and Multiple and Multilevel inheritance."
   ]
  },
  {
   "cell_type": "code",
   "execution_count": 2,
   "metadata": {},
   "outputs": [
    {
     "name": "stdout",
     "output_type": "stream",
     "text": [
      "[<class '__main__.D'>, <class '__main__.B'>, <class '__main__.C'>, <class '__main__.A'>, <class 'object'>]\n"
     ]
    }
   ],
   "source": [
    "class A:\n",
    "    x=10\n",
    "    def __init__(self,a,b):\n",
    "        print('__init__ of A')\n",
    "        self.a=a\n",
    "        self.b=b\n",
    "class B(A):\n",
    "    y=100\n",
    "    def __init__(self,a):\n",
    "        print('__init__ of B')\n",
    "        self.a=a\n",
    "class C(A):\n",
    "    pass\n",
    "class D(B,C):\n",
    "    pass\n",
    "print(D.mro())"
   ]
  },
  {
   "cell_type": "markdown",
   "metadata": {},
   "source": [
    "# Encapsulation:\n",
    "1.It is a process of binding states and behaviour of an object under one roof.\n",
    "\n",
    "2.Encapsultion can be achieved by using by creating class.\n",
    "\n",
    "3.Advantages of encapsulation is restricted the scope of accessibility of states and behaviour.\n",
    "\n",
    "4.We can apply restriction by using access modifies and access specifiers.\n",
    "\n",
    "# Access Specifiers:\n",
    "Access specifiers ae used for creating the scope of accessibility of variable/methods.\n",
    "\n",
    "# Types of Access Specifiers.\n",
    "1.Public\n",
    "2.Protected\n",
    "3.Private\n",
    "\n",
    "# Public Access Specifers:\n",
    "1.Syntax for represnting Public variables or methods.\n",
    "       -----variablename/methodname-----\n",
    "2.Public variable or meythods can be accessed through different \n",
    "3.Syntax for accessing Public access specifers \n",
    "   -----objectname.variablename/methodname\n",
    "\n",
    "# Protected access specifiers:\n",
    "1.Protected access specifiers are declared with underscore before their names.\n",
    "2.Syntax for representing protected variable or methods.\n",
    "\n",
    "   -------variablename-----\n",
    "   -------methodname------\n",
    "3.Protected accesss specifiers can accessed only within that packages.\n",
    "4.Syntax for accessing protected access specifiers .\n",
    "\n",
    "\n",
    "------objectname._varible/methodname-----------\n",
    "\n",
    "# Private Access Specifiers.\n",
    "1.Private access specifies are declared with double underscore."
   ]
  },
  {
   "cell_type": "code",
   "execution_count": 10,
   "metadata": {},
   "outputs": [
    {
     "name": "stdout",
     "output_type": "stream",
     "text": [
      "True\n"
     ]
    }
   ],
   "source": [
    "class Rectangle:\n",
    "    def __init__(self,l,b):\n",
    "        self.length=l\n",
    "        self.breadth=b\n",
    "        self.area=l*b\n",
    "    def __gt__(self,second):\n",
    "        return True if self.area>second.area else False\n",
    "        \n",
    "rect1=Rectangle(20,10)\n",
    "rect2=Rectangle(10,10)\n",
    "print(rect1>rect2)"
   ]
  },
  {
   "cell_type": "markdown",
   "metadata": {},
   "source": [
    "# Example of Special method or Magic method."
   ]
  },
  {
   "cell_type": "code",
   "execution_count": 5,
   "metadata": {},
   "outputs": [
    {
     "name": "stdout",
     "output_type": "stream",
     "text": [
      "15000.0\n"
     ]
    }
   ],
   "source": [
    "class Book:\n",
    "    def __init__(self,n,p,au):\n",
    "        self.name=n\n",
    "        self.price=p\n",
    "        self.author=au\n",
    "    def __str__(self):\n",
    "        return self.name\n",
    "    def __add__(self,second):\n",
    "        return self.price+second.price\n",
    "    def __sub__(self,second):\n",
    "        return self.price-second.price \n",
    "    def __mul__(self,n):\n",
    "        return self.price*n\n",
    "    def __truediv__(self,n):\n",
    "        return self.price/n\n",
    "Python=Book('Python',30000,'Rakesh')\n",
    "Django=Book('Django',34000,'Harshad')\n",
    "# print(Python+Django)\n",
    "# print(Python-Django)\n",
    "# print(Python*3)\n",
    "print(Python/2)\n"
   ]
  },
  {
   "cell_type": "markdown",
   "metadata": {},
   "source": [
    "# Iterators:\n",
    "1.Iterator is a process of traversing through the sequence and extracting a value one after the another.\n",
    "2.The operator which do the process of iteration is known as iterators.\n",
    "3.For loop works on the principle of iterators.\n",
    "4.Strings,Lists,Tuple,Dictionary and sets are all iterable objects.\n",
    "\n",
    "# Iterators works with 2 sets of operations.\n",
    "\n",
    "# Initialization:\n",
    "1.Create Iterable object.\n",
    "2.Create a variable and assign starting value.\n",
    "3.return the create Iterable Object for Traversing.\n",
    "\n",
    "# Traversing:\n",
    "1.Fech eacha and every elelment present in given iterable objects.\n",
    "2.When there is no element to fetch raise Stop Iteration.\n",
    "\n",
    "# Classification:\n",
    "1.Builtin Iterator\n",
    "2.Custom/User-Defined Iterators.\n",
    "\n",
    "# Builtin Iterator:\n",
    "1.In case of builtin iterators ---iter---performs initialization.\n",
    "2.It creates and return a ---iterable--- object.\n",
    "\n",
    "--Syntax--\n",
    "        varname=iter(CDT)\n",
    "\n",
    "# next perform traversing:\n",
    "It fetches one value from iterable object.\n",
    "\n",
    "---syntax---\n",
    "       next(Iterableobject)\n",
    "\n",
    "# Dis-advantages of Iterators:\n",
    "1.We have to create a class"
   ]
  },
  {
   "cell_type": "code",
   "execution_count": 3,
   "metadata": {},
   "outputs": [
    {
     "name": "stdout",
     "output_type": "stream",
     "text": [
      "k\n",
      "i\n",
      "n\n",
      "g\n"
     ]
    }
   ],
   "source": [
    "IO=iter('king')\n",
    "print(next(IO))\n",
    "print(next(IO))\n",
    "print(next(IO))\n",
    "print(next(IO))"
   ]
  },
  {
   "cell_type": "markdown",
   "metadata": {},
   "source": [
    "# Generator:\n",
    "1.Python Generator is a function which is used for returning an Iterable generator object \n",
    "which can be iterated to extract value one by one.\n",
    "2.Generator is a function which yield statement instead of return.\n",
    "3.Python generator are a simple way of creating iterators.\n",
    "4.All the work of initialization and traversing is done automatically handled by generators in python.\n",
    "5.Generator follows pause and execute approach."
   ]
  },
  {
   "cell_type": "code",
   "execution_count": 6,
   "metadata": {},
   "outputs": [
    {
     "name": "stdout",
     "output_type": "stream",
     "text": [
      "<generator object genfunction at 0x000002021AA8CF20>\n",
      "genr function is a generator\n",
      "23\n",
      "first after yield\n",
      "Hai\n",
      "this is last yield statement\n",
      "(23, [90, 89], 'hai')\n"
     ]
    }
   ],
   "source": [
    "def genfunction():\n",
    "    print('genr function is a generator')\n",
    "    yield 23\n",
    "    print('first after yield')\n",
    "    yield 'Hai'\n",
    "    print('this is last yield statement')\n",
    "    yield 23,[90,89],'hai'\n",
    "\n",
    "genf=genfunction()\n",
    "print(genf)\n",
    "print(next(genf))\n",
    "print(next(genf))\n",
    "print(next(genf))\n",
    "\n"
   ]
  },
  {
   "cell_type": "markdown",
   "metadata": {},
   "source": [
    "# Difference between return and yield.\n",
    "# Return\n",
    "1.After writing a return statements we cannot write any other statements inside that block.\n",
    "2.Directly values will be returned\n",
    "3.It is used for returning some values/data.\n",
    "4.While returning multiple data as output then format of return is a tuple.\n",
    "5.We can return any type of data.\n",
    "6.We can returning no.of data.\n",
    "\n",
    "# Yield\n",
    "1.After writing yield statements inside a generator function use can write no of statements inside that block.\n",
    "2.It will return an generator object.\n",
    "3.It is used for returning some values/data.\n",
    "4.While returning multiple data as output then format of return is a tuple.\n",
    "5.We can return any type of data.\n",
    "6.We can returning no.of data."
   ]
  },
  {
   "cell_type": "markdown",
   "metadata": {},
   "source": [
    "# Difference Between Generator and functions.\n",
    "\n",
    "# Generator:\n",
    "1.Generator are the function with yield statements.\n",
    "2.When called it returns an object (iterator).\n",
    "3.Every generator is an iterator.\n",
    "4.Does not start execution immediately.\n",
    "5.Once the function yield the function is passed and the control is transferred to the caller.\n",
    "6.When the function terminates StopIteration is raised automatically an function calls.\n",
    "7.We can use generator with for loops directly.\n",
    "\n",
    "# Functions:\n",
    "1.Function contains return statement.\n",
    "2.Function returns a value returned based on user definitons.\n",
    "3.Function will be executed immediately.\n",
    "4.No concept of yielding and pausing the execution.\n",
    "5.Does not raise any exception after termination of function.\n",
    "6.We cannot use function with for loops directly."
   ]
  },
  {
   "cell_type": "code",
   "execution_count": null,
   "metadata": {},
   "outputs": [],
   "source": [
    "class Fibo:\n",
    "    def __init__(self,fv,sv,n):\n",
    "        self.firstvalue=fv\n",
    "        self.secondvalue=sv\n",
    "        self.n=n\n",
    "    def __iter__(self):\n",
    "        self.i=1\n",
    "        return self\n",
    "    def __next__(self):\n",
    "        if self.i<=self.n:\n",
    "            dummy=self.firstvalue\n",
    "            self.firstvalue=self.secondvalue\n",
    "            self.secondvalue=dummy+self.firstvalue\n",
    "            \n",
    "            self.i+=1\n",
    "        return dummy\n",
    "    raise StopIteration"
   ]
  },
  {
   "cell_type": "markdown",
   "metadata": {},
   "source": [
    "# Comprehension.\n",
    "1.Comprehension in python are used for creating new sequences from iterables/another sequence.\n",
    "2.Comprehensions are single line statements.\n",
    "3.Based on expression if we want to define sequences then we go for comprehension.\n",
    "\n",
    "# Classification of Comprehensions.\n",
    "In python we have 3 types of comprehensions.\n",
    "\n",
    "1.List Comprehensions\n",
    "2.Set Comprehensions\n",
    "3.Dictionary Comprehensions"
   ]
  },
  {
   "cell_type": "markdown",
   "metadata": {},
   "source": [
    "# List Comprehensions."
   ]
  },
  {
   "cell_type": "code",
   "execution_count": 1,
   "metadata": {},
   "outputs": [
    {
     "name": "stdout",
     "output_type": "stream",
     "text": [
      "[1, 2, 3, 4, 5, 6, 7, 8, 9, 10]\n"
     ]
    }
   ],
   "source": [
    "L=[]\n",
    "for i in range(1,11):\n",
    "    L.append(i)\n",
    "print(L)"
   ]
  },
  {
   "cell_type": "code",
   "execution_count": 12,
   "metadata": {},
   "outputs": [
    {
     "name": "stdout",
     "output_type": "stream",
     "text": [
      "[1, 2, 3, 4, 5, 6, 7, 8, 9, 10]\n",
      "[2, 4, 6, 8, 10]\n",
      "[1, 4, 9, 16, 25, 36, 49, 64, 81]\n",
      "[10, 60, 12, 55, 68, 77, 89]\n"
     ]
    }
   ],
   "source": [
    "# For adding the numbers by list comprehensions.\n",
    "L=[i for i in range(1,11)]\n",
    "print(L)\n",
    "\n",
    "# For finding even no\n",
    "T=[1,2,3,4,5,6,7,8,9,10]\n",
    "L=[i for i in T if i%2==0]\n",
    "print(L)\n",
    "\n",
    "# For finding Square of given list.\n",
    "T=[1,2,3,4,5,6,7,8,9]\n",
    "L=[i**2 for i in T]\n",
    "print(L)\n",
    "\n",
    "# From the given tuple add all the even numbers and odd greter than 50 into list by using list comprehension.\n",
    "T=(10,45,60,12,55,68,49,77,89)\n",
    "L=[i for i in T if i%2==0 or i>50]\n",
    "print(L)"
   ]
  },
  {
   "cell_type": "markdown",
   "metadata": {},
   "source": [
    "# Dictionary Comprehension."
   ]
  },
  {
   "cell_type": "code",
   "execution_count": 2,
   "metadata": {},
   "outputs": [
    {
     "name": "stdout",
     "output_type": "stream",
     "text": [
      "{1: 1, 2: 4, 3: 9, 4: 16, 5: 25, 6: 36, 7: 49, 8: 64, 9: 81, 10: 100}\n"
     ]
    }
   ],
   "source": [
    "d={i:i**2 for i in range(1,11)}\n",
    "print(d)"
   ]
  },
  {
   "cell_type": "code",
   "execution_count": 3,
   "metadata": {},
   "outputs": [
    {
     "name": "stdout",
     "output_type": "stream",
     "text": [
      "{2: 4, 4: 16, 6: 36, 8: 64, 10: 100}\n"
     ]
    }
   ],
   "source": [
    "d={i:i**2 for i in range(1,11) if i%2==0}\n",
    "print(d)"
   ]
  },
  {
   "cell_type": "code",
   "execution_count": 5,
   "metadata": {},
   "outputs": [
    {
     "name": "stdout",
     "output_type": "stream",
     "text": [
      "{'a': 'AAA', 'b': 'BBB', 'c': 'CCC', 'd': 'DDD'}\n"
     ]
    }
   ],
   "source": [
    "s='aBCd'\n",
    "d={i.lower(): i.upper()*3 for i in s}\n",
    "print(d)"
   ]
  },
  {
   "cell_type": "code",
   "execution_count": 34,
   "metadata": {},
   "outputs": [
    {
     "name": "stdout",
     "output_type": "stream",
     "text": [
      "{'a': 4, 'B': 1, 'C': 2, 'd': 3}\n"
     ]
    }
   ],
   "source": [
    "s='aBCda'\n",
    "d={s[i]:i for i in range(len(s))}\n",
    "print(d)"
   ]
  },
  {
   "cell_type": "code",
   "execution_count": 29,
   "metadata": {},
   "outputs": [
    {
     "name": "stdout",
     "output_type": "stream",
     "text": [
      "{1: '1', 2: '4', 3: '9', 4: '16', 5: '25', 6: '36', 7: '49', 8: '64', 9: '81'}\n"
     ]
    }
   ],
   "source": [
    "n1=int(input('Starting Range'))\n",
    "n2=int(input('Ending Range'))\n",
    "d={i:str(int(i)*i) for i in range(n1,n2)}\n",
    "print(d)"
   ]
  },
  {
   "cell_type": "markdown",
   "metadata": {},
   "source": [
    "# Enumerate function:It is used for returning enumerate object which consist of index position along with its value."
   ]
  },
  {
   "cell_type": "code",
   "execution_count": 30,
   "metadata": {},
   "outputs": [
    {
     "name": "stdout",
     "output_type": "stream",
     "text": [
      "{0: 'a', 1: 'a', 2: 'B', 3: 'C', 4: 'd'}\n"
     ]
    }
   ],
   "source": [
    "s='aBCd'\n",
    "d={ip:v for ip,v in enumerate(s)}\n",
    "print(d)"
   ]
  },
  {
   "cell_type": "code",
   "execution_count": 17,
   "metadata": {},
   "outputs": [
    {
     "name": "stdout",
     "output_type": "stream",
     "text": [
      "{'a': 11, 'B': 22, 'C': 33, 'd': 44}\n"
     ]
    }
   ],
   "source": [
    "S='aBCd'\n",
    "L=[11,22,33,44]\n",
    "d={S[i]:L[i] for i in range(len(S)) }\n",
    "print(d)"
   ]
  },
  {
   "cell_type": "markdown",
   "metadata": {},
   "source": [
    "# Zip function:\n",
    "It is used for returning zip object after compiling the element of given CDT based on their index position."
   ]
  },
  {
   "cell_type": "code",
   "execution_count": 22,
   "metadata": {},
   "outputs": [
    {
     "name": "stdout",
     "output_type": "stream",
     "text": [
      "{'a': 11, 'B': 22, 'C': 33, 'd': 44, 'e': 55}\n"
     ]
    }
   ],
   "source": [
    "S='aBCde'\n",
    "L=[11,22,33,44,55]\n",
    "d={fcv:scv for fcv,scv in zip(S,L)}\n",
    "print(d)"
   ]
  },
  {
   "cell_type": "markdown",
   "metadata": {},
   "source": [
    "# Threading:\n",
    "\n",
    "In computing, a process is an instance of a computer \n",
    "program that is being executed.\n",
    "Any process has 3 basic components:\n",
    "1. An executable program.\n",
    "2. The associated data needed by the program (variables,\n",
    "work space, buffers, etc.)\n",
    "3. The execution context of the program (State of process)\n",
    "Thread:\n",
    "-------\n",
    "A thread is an entity within a process that can be scheduled for execution\n",
    "or\n",
    "A thread is a sequence of instructions within a program that can be \n",
    "executed independently of other code.\n",
    "Thread Control Block (TCB) will control all the thread operations\n",
    "By Default each and every Programming language work on Uni-Threading principle\n",
    "If u want to do multi threading then we can do it externally\n",
    "Necessity of achieving Multi threading:\n",
    "----------------------------------------\n",
    "1. Whenever there is a wait time in the program then at that\n",
    "time CPU will not take any other programs for execution then\n",
    "due to idle time of CPU efficiency of program reduces\n",
    "2. We can reduce idleness of CPU by using Multi Threading\n",
    "Multi_Threading:\n",
    "----------------\n",
    "1. Multithreading is defined as the ability of a processor to execute\n",
    "multiple threads concurrently.\n",
    "2. Whenever the First started thread is waiting then at that particular \n",
    "Time Second thread will be under execution\n",
    "Threading\n",
    "Wednesday, July 14, 2021 1:30 PM\n",
    "In a simple, single-core CPU, it is achieved using frequent switching\n",
    "between threads. This is termed as context switching. \n",
    "In context switching, the state of a thread is saved and state of another\n",
    "thread is loaded whenever any interrupt (due to I/O or manually set)\n",
    "takes place. Context switching takes place so frequently that all the \n",
    "threads appear to be running parallely (this is termed as multitasking).\n",
    "Classification of Threads:\n",
    "-------------------------\n",
    "Threads are classified into 2 types\n",
    "1.Kernel Threads\n",
    "2.User_Defined Threads\n",
    "1.Kernel Threads:\n",
    "------------------\n",
    "1. This are the thread which are created by OS inorder to execution purpose\n",
    "2. OS will not allow user to create Kernel Threads \n",
    "2.User_Defined Threads:\n",
    "-----------------------\n",
    "1. This are the thread which are created by USER inorder to execution purpose\n",
    "2. we can create Thread by using the treading module of Python\n",
    "import threading\n",
    "3. By using Thread class of threading module we can create User_Defined Threads\n",
    "Syntax for creating User_Defined Threads\n",
    "Threadvariablename=threading.Thread(target,args,name)\n",
    "target: the function to be executed by thread\n",
    "args: the arguments to be passed to the target function\n",
    "name:name of the created thread\n",
    "example:\n",
    "--------\n",
    "t1=threading.Thread(target=fun1,args=(5,),name='thread1')\n",
    "Some of the functions of the threading module:\n",
    "--------------------------------------------\n",
    "Methods of Thread class\n",
    "-----------------------------\n",
    "1. start() helps u to start the execution of thread\n",
    "2. join() helps u to wait untill the termination of thread execution\n",
    "3. is_alive() -The is_alive() method checks whether a thread is still executing.\n",
    "4. name() helps u to print the name of the thread\n",
    "Functions of threading module:\n",
    "------------------------------------------\n",
    "1. threading.active_count() -Returns the number of thread \n",
    "objects that are active.\n",
    "2. threading.enumerate() - Returns a list of all thread objects that\n",
    "are currently active.\n",
    "Example:\n",
    "--------------\n",
    "import time\n",
    "import threading\n",
    "def gf(n):\n",
    "for i in range(5):\n",
    "print('I am talking to Gf')\n",
    "time.sleep(2)\n",
    "def exgf(n):\n",
    "for i in range(5):\n",
    "print('Ex Gf is Speaking to Me')\n",
    "time.sleep(2)\n",
    "T1=time.time()\n",
    "#I am creating gf thread\n",
    "gf=threading.Thread(target=gf,args=(5,),name='Nayanthara')\n",
    "#I am creating exgf thread\n",
    "exgf=threading.Thread(target=exgf,args=(5,),name='samantha')\n",
    "# starting execution of gf thread\n",
    "gf.start()\n",
    "# starting execution of exgf thread\n",
    "exgf.start()\n",
    "print('no of active threads are',threading.active_count())\n",
    "print(threading.enumerate())\n",
    "gf.join()\n",
    "exgf.join()\n",
    "print('gf is active or not',gf.is_alive())\n",
    "T2=time.time()\n",
    "print('Time taken is ',T2-T1)"
   ]
  },
  {
   "cell_type": "markdown",
   "metadata": {},
   "source": [
    "# Class Method:\n",
    "1.Class method are used for accessing and modifying the class Members.\n",
    "2.Class methods also take a must and should arguments called cls.\n",
    "3.Cls is used for referring the class address.\n",
    "4.Each and every class method must be decorated with classmethod decorated.\n",
    "5.We can access class methods with both object and as class but modifies class member directly.\n",
    "\n",
    "# Syntax for creating the class method.\n",
    "\n",
    "class classname:\n",
    "    @classmethod\n",
    "    def methodname(cls,arguments):\n",
    "       pass\n",
    "\n",
    "\n",
    "# Objects Method:\n",
    "1.These are used for defining,accessing,modifying the specific properties of an object.\n",
    "2.While defining object method we have to provide a mandatory arguments which is responsible for considering \n",
    "the current object instance address.\n",
    "3.As per industrial standards we have to use 'self' as the name of mandatory arguments.\n",
    "4.Object methods are accessed only by using the object reference only.\n",
    "5.Object Methods belongs to object.\n",
    "\n",
    "# Syntax for accessing the object method by object.\n",
    "\n",
    "---------------------objectname.Methodname(arguments)------------------------\n",
    "\n",
    "# Syntax for accessing object method by using class name:\n",
    "\n",
    "----------------------classname.Methodname(objectreference,arguments)---------------------\n",
    "\n",
    "# Note:\n",
    "Arguments are optional.\n",
    "\n",
    "# Static Method:\n",
    "1.Static Methods are neither belongs to class nor objects.\n",
    "2.No need of Passing any of the arguments like self or cls.\n",
    "3.By using static methods we cannot access or modify the class or object state.\n",
    "4.These methods are defined just to get some data while execution of objects or class methods.\n",
    "5.Static methods are decorated by using the static method decorator.\n",
    "\n",
    "# Syntax for creating the static method.\n",
    "\n",
    "class classname:\n",
    "    @staticmethod\n",
    "    def method():\n",
    "      pass"
   ]
  }
 ],
 "metadata": {
  "kernelspec": {
   "display_name": "base",
   "language": "python",
   "name": "python3"
  },
  "language_info": {
   "codemirror_mode": {
    "name": "ipython",
    "version": 3
   },
   "file_extension": ".py",
   "mimetype": "text/x-python",
   "name": "python",
   "nbconvert_exporter": "python",
   "pygments_lexer": "ipython3",
   "version": "3.9.12"
  },
  "orig_nbformat": 4
 },
 "nbformat": 4,
 "nbformat_minor": 2
}

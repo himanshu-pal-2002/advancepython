{
 "cells": [
  {
   "cell_type": "code",
   "execution_count": 2,
   "metadata": {},
   "outputs": [
    {
     "name": "stdout",
     "output_type": "stream",
     "text": [
      "Name is : Himanshu\n",
      "Class is : 5\n",
      "Address is : Bidhuna\n"
     ]
    }
   ],
   "source": [
    "def Student(name,Class,Address):\n",
    "    print('Name is :',name)\n",
    "    print('Class is :',Class)\n",
    "    print('Address is :',Address)\n",
    "Student('Himanshu',5,'Bidhuna')"
   ]
  },
  {
   "cell_type": "code",
   "execution_count": 5,
   "metadata": {},
   "outputs": [
    {
     "name": "stdout",
     "output_type": "stream",
     "text": [
      "Name of student is: Happy\n",
      "Age of student is: 12\n",
      "Id of student is: 2345\n",
      "name of city is: Bangalore\n",
      "name of state is: Karnataka\n",
      "name of country is: Bharat\n",
      "Address of student is: None\n"
     ]
    }
   ],
   "source": [
    "class Address:\n",
    "    def __init__(self,c,s,co):\n",
    "        self.city=c\n",
    "        self.state=s\n",
    "        self.country=co\n",
    "    def display_address(self):\n",
    "        print('name of city is:',self.city)\n",
    "        print('name of state is:',self.state)\n",
    "        print('name of country is:',self.country)\n",
    "Bangaloreobject=Address('Bangalore','Karnataka','Bharat')\n",
    "# Bangaloreobject.address()\n",
    "class Student:\n",
    "    def __init__(self,n,a,i,ado):\n",
    "        self.sname=n\n",
    "        self.sage=a\n",
    "        self.sid=i\n",
    "        self.saddress=ado\n",
    "    def student_info(self):\n",
    "        print('Name of student is:',self.sname)\n",
    "        print('Age of student is:',self.sage)\n",
    "        print('Id of student is:',self.sid)\n",
    "        print('Address of student is:',self.saddress.display_address())\n",
    "        \n",
    "Nikky=Student('Happy',12,2345,Bangaloreobject)\n",
    "Nikky.student_info()"
   ]
  }
 ],
 "metadata": {
  "kernelspec": {
   "display_name": "base",
   "language": "python",
   "name": "python3"
  },
  "language_info": {
   "codemirror_mode": {
    "name": "ipython",
    "version": 3
   },
   "file_extension": ".py",
   "mimetype": "text/x-python",
   "name": "python",
   "nbconvert_exporter": "python",
   "pygments_lexer": "ipython3",
   "version": "3.9.12"
  },
  "orig_nbformat": 4
 },
 "nbformat": 4,
 "nbformat_minor": 2
}

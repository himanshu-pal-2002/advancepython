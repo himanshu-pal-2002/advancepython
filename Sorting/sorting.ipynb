{
 "cells": [
  {
   "cell_type": "markdown",
   "metadata": {},
   "source": [
    "# Linear Search"
   ]
  },
  {
   "cell_type": "code",
   "execution_count": 1,
   "metadata": {},
   "outputs": [
    {
     "name": "stdout",
     "output_type": "stream",
     "text": [
      "1\n"
     ]
    }
   ],
   "source": [
    "# WAP to implement linear search.\n",
    "L=[11,7,23,7,18]\n",
    "user=7\n",
    "for ind in range(len(L)):\n",
    "    if L[ind]==user:\n",
    "        print(ind)\n",
    "        break\n",
    "else:\n",
    "    print(-1)"
   ]
  },
  {
   "cell_type": "markdown",
   "metadata": {},
   "source": [
    "# Binary Search\n",
    "1.Check the list is sort or not.\n",
    "2.Remove duplicates."
   ]
  },
  {
   "cell_type": "code",
   "execution_count": null,
   "metadata": {},
   "outputs": [],
   "source": [
    "# WAP to implement the Binary Search.\n",
    "L=[5,6,11,17,45,48]\n",
    "user=45\n",
    "low=0\n",
    "high=5\n",
    "while low<=high and L[low]<=L[high]:\n",
    "    mid=(low+high)//2\n",
    "    if L[mid]<user:\n",
    "        low=mid+1\n",
    "    elif L[mid]>user:\n",
    "        high=mid-1\n",
    "    elif L[mid]==user:\n",
    "        print(mid)\n",
    "        break\n",
    "else:\n",
    "    print(-1)\n"
   ]
  }
 ],
 "metadata": {
  "kernelspec": {
   "display_name": "base",
   "language": "python",
   "name": "python3"
  },
  "language_info": {
   "codemirror_mode": {
    "name": "ipython",
    "version": 3
   },
   "file_extension": ".py",
   "mimetype": "text/x-python",
   "name": "python",
   "nbconvert_exporter": "python",
   "pygments_lexer": "ipython3",
   "version": "3.9.12"
  }
 },
 "nbformat": 4,
 "nbformat_minor": 2
}

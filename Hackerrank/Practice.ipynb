{
 "cells": [
  {
   "cell_type": "code",
   "execution_count": null,
   "metadata": {},
   "outputs": [],
   "source": [
    "year=int(input('Enter  year'))\n",
    "if year%100==0 and year%400==0:\n",
    "    print('Year is a leap year')\n",
    "elif year%100!=0 and year%4==0:\n",
    "    print('Year is a leap year')\n",
    "else:\n",
    "    print('Year is not a leap year')"
   ]
  }
 ],
 "metadata": {
  "kernelspec": {
   "display_name": "base",
   "language": "python",
   "name": "python3"
  },
  "language_info": {
   "name": "python",
   "version": "3.9.12"
  }
 },
 "nbformat": 4,
 "nbformat_minor": 2
}

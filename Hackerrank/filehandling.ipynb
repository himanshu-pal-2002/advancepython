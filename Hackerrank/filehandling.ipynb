{
 "cells": [
  {
   "cell_type": "code",
   "execution_count": 17,
   "metadata": {},
   "outputs": [
    {
     "name": "stdout",
     "output_type": "stream",
     "text": [
      "Hello\n",
      "Hello \n",
      "\n",
      "['Hello \\n', 'Myself\\n', 'Himanshu Pal']\n"
     ]
    }
   ],
   "source": [
    "data=open('Kernal13000.txt','r')\n",
    "print(data.read(5))\n",
    "\n",
    "data=open('Kernal13000.txt','r')\n",
    "print(data.readline())\n",
    "\n",
    "data=open('Kernal13000.txt','r')\n",
    "print(data.readlines())\n"
   ]
  },
  {
   "cell_type": "markdown",
   "metadata": {},
   "source": [
    "# WAP to find out how many words are present in the abov given line."
   ]
  },
  {
   "cell_type": "code",
   "execution_count": 18,
   "metadata": {},
   "outputs": [
    {
     "name": "stdout",
     "output_type": "stream",
     "text": [
      "Total number of words in the file: 4\n"
     ]
    }
   ],
   "source": [
    "# Specify the file path\n",
    "file_path = \"Kernal13000.txt\"\n",
    "\n",
    "# Initialize a word count variable\n",
    "word_count = 0\n",
    "\n",
    "# Open the file for reading\n",
    "with open(file_path, 'r') as file:\n",
    "    # Read the file line by line\n",
    "    for line in file:\n",
    "        # Split each line into words using whitespace as the delimiter\n",
    "        words = line.split()\n",
    "        # Increment the word count by the number of words in the line\n",
    "        word_count += len(words)\n",
    "\n",
    "# Print the total word count\n",
    "print(\"Total number of words in the file:\", word_count)\n"
   ]
  },
  {
   "cell_type": "markdown",
   "metadata": {},
   "source": [
    "# WAP to find how many characters are present in given file."
   ]
  },
  {
   "cell_type": "code",
   "execution_count": 20,
   "metadata": {},
   "outputs": [
    {
     "name": "stdout",
     "output_type": "stream",
     "text": [
      "Total characters in the file: 26\n"
     ]
    }
   ],
   "source": [
    "# Function to count characters in a file\n",
    "def count_characters_in_file(file_name):\n",
    "    try:\n",
    "        with open(file_name, 'r') as file:\n",
    "            text = file.read()\n",
    "            return len(text)\n",
    "    except FileNotFoundError:\n",
    "        return 0  # Return 0 if the file does not exist\n",
    "\n",
    "# Usage example\n",
    "file_name = \"Kernal13000.txt\"  # Replace with the path to your file\n",
    "character_count = count_characters_in_file(file_name)\n",
    "print(f\"Total characters in the file: {character_count}\")\n"
   ]
  },
  {
   "cell_type": "markdown",
   "metadata": {},
   "source": [
    "# WAP to find out the how many lines are present in above given file."
   ]
  },
  {
   "cell_type": "code",
   "execution_count": 33,
   "metadata": {},
   "outputs": [
    {
     "name": "stdout",
     "output_type": "stream",
     "text": [
      "Total lines in the file: 4\n"
     ]
    }
   ],
   "source": [
    "# Function to count lines in a file\n",
    "def count_lines_in_file(file_name):\n",
    "    try:\n",
    "        with open(file_name, 'r') as file:\n",
    "            lines = file.readlines()\n",
    "            return len(lines)\n",
    "    except FileNotFoundError:\n",
    "        return 0  # Return 0 if the file does not exist\n",
    "\n",
    "# Usage example\n",
    "file_name = \"Kernal13000.txt\"  # Replace with the path to your file\n",
    "line_count = count_lines_in_file(file_name)\n",
    "print(f\"Total lines in the file: {line_count}\")\n"
   ]
  },
  {
   "cell_type": "markdown",
   "metadata": {},
   "source": [
    "# WAP to print all the words which are starting with 'H'."
   ]
  },
  {
   "cell_type": "code",
   "execution_count": 34,
   "metadata": {},
   "outputs": [
    {
     "name": "stdout",
     "output_type": "stream",
     "text": [
      "Words starting with 'H' in the file:\n",
      "Hello\n",
      "Himanshu\n"
     ]
    }
   ],
   "source": [
    "# Function to print words starting with 'H' from a file\n",
    "def print_words_starting_with_h(file_name):\n",
    "    try:\n",
    "        with open(file_name, 'r') as file:\n",
    "            text = file.read()\n",
    "            words = text.split()\n",
    "            h_words = [word for word in words if word.startswith('H') or word.startswith('h')]\n",
    "            for word in h_words:\n",
    "                print(word)\n",
    "    except FileNotFoundError:\n",
    "        print(f\"File '{file_name}' not found.\")\n",
    "\n",
    "# Usage example\n",
    "file_name = \"Kernal13000.txt\"  # Replace with the path to your file\n",
    "print(\"Words starting with 'H' in the file:\")\n",
    "print_words_starting_with_h(file_name)\n"
   ]
  },
  {
   "cell_type": "markdown",
   "metadata": {},
   "source": [
    "# WAP which are having exactly 5 characters."
   ]
  },
  {
   "cell_type": "code",
   "execution_count": 23,
   "metadata": {},
   "outputs": [
    {
     "name": "stdout",
     "output_type": "stream",
     "text": [
      "Words with exactly 5 characters in the file:\n",
      "Hello\n"
     ]
    }
   ],
   "source": [
    "# Function to print words with exactly 5 characters from a file\n",
    "def print_words_with_five_characters(file_name):\n",
    "    try:\n",
    "        with open(file_name, 'r') as file:\n",
    "            text = file.read()\n",
    "            words = text.split()\n",
    "            five_char_words = [word for word in words if len(word) == 5]\n",
    "            for word in five_char_words:\n",
    "                print(word)\n",
    "    except FileNotFoundError:\n",
    "        print(f\"File '{file_name}' not found.\")\n",
    "\n",
    "# Usage example\n",
    "file_name = \"Kernal13000.txt\"  # Replace with the path to your file\n",
    "print(\"Words with exactly 5 characters in the file:\")\n",
    "print_words_with_five_characters(file_name)\n"
   ]
  },
  {
   "cell_type": "markdown",
   "metadata": {},
   "source": [
    "# WAP lines which are strating with 'H'."
   ]
  },
  {
   "cell_type": "code",
   "execution_count": 24,
   "metadata": {},
   "outputs": [
    {
     "name": "stdout",
     "output_type": "stream",
     "text": [
      "Lines starting with 'H' in the file:\n",
      "Hello\n",
      "Himanshu Pal\n"
     ]
    }
   ],
   "source": [
    "# Function to print lines starting with 'H' from a file\n",
    "def print_lines_starting_with_h(file_name):\n",
    "    try:\n",
    "        with open(file_name, 'r') as file:\n",
    "            lines = file.readlines()\n",
    "            for line in lines:\n",
    "                if line.strip().startswith('H') or line.strip().startswith('h'):\n",
    "                    print(line.strip())\n",
    "    except FileNotFoundError:\n",
    "        print(f\"File '{file_name}' not found.\")\n",
    "\n",
    "# Usage example\n",
    "file_name = \"Kernal13000.txt\"  # Replace with the path to your file\n",
    "print(\"Lines starting with 'H' in the file:\")\n",
    "print_lines_starting_with_h(file_name)\n"
   ]
  },
  {
   "cell_type": "markdown",
   "metadata": {},
   "source": [
    "# how many lines 5 vowel in them."
   ]
  },
  {
   "cell_type": "code",
   "execution_count": 32,
   "metadata": {},
   "outputs": [
    {
     "name": "stdout",
     "output_type": "stream",
     "text": [
      "Number of lines with at least 5 vowels: 1\n"
     ]
    }
   ],
   "source": [
    "# Function to count lines with at least 5 vowels\n",
    "def count_lines_with_five_vowels(file_name):\n",
    "    vowels = \"AEIOUaeiou\"\n",
    "    count = 0\n",
    "\n",
    "    try:\n",
    "        with open(file_name, 'r') as file:\n",
    "            lines = file.readlines()\n",
    "            for line in lines:\n",
    "                line = line.strip()  # Remove leading and trailing whitespace\n",
    "                vowel_count = sum(1 for char in line if char in vowels)\n",
    "                if vowel_count >= 5:\n",
    "                    count += 1\n",
    "\n",
    "    except FileNotFoundError:\n",
    "        print(f\"File '{file_name}' not found.\")\n",
    "\n",
    "    return count\n",
    "\n",
    "# Usage example\n",
    "file_name = \"Kernal13000.txt\"  # Replace with the path to your file\n",
    "line_count = count_lines_with_five_vowels(file_name)\n",
    "print(f\"Number of lines with at least 5 vowels: {line_count}\")\n"
   ]
  },
  {
   "cell_type": "markdown",
   "metadata": {},
   "source": [
    "# WAP who has exactly 20 words."
   ]
  },
  {
   "cell_type": "code",
   "execution_count": 28,
   "metadata": {},
   "outputs": [
    {
     "name": "stdout",
     "output_type": "stream",
     "text": [
      "Lines with exactly 20 characters in the file:\n"
     ]
    }
   ],
   "source": [
    "# Function to print lines with exactly 20 characters from a file\n",
    "def print_lines_with_twenty_characters(file_name):\n",
    "    try:\n",
    "        with open(file_name, 'r') as file:\n",
    "            lines = file.readlines()\n",
    "            for line in lines:\n",
    "                if len(line.strip()) == 20:\n",
    "                    print(line.strip())\n",
    "    except FileNotFoundError:\n",
    "        print(f\"File '{file_name}' not found.\")\n",
    "\n",
    "# Usage example\n",
    "file_name = \"Kernal13000.txt\"  # Replace with the path to your file\n",
    "print(\"Lines with exactly 20 characters in the file:\")\n",
    "print_lines_with_twenty_characters(file_name)\n"
   ]
  },
  {
   "cell_type": "markdown",
   "metadata": {},
   "source": [
    "# Print Repeated words."
   ]
  },
  {
   "cell_type": "code",
   "execution_count": 29,
   "metadata": {},
   "outputs": [
    {
     "name": "stdout",
     "output_type": "stream",
     "text": [
      "The most repeated word(s) in the file is/are:\n",
      "'hello' repeated 1 times\n",
      "'myself' repeated 1 times\n",
      "'himanshu' repeated 1 times\n",
      "'pal' repeated 1 times\n",
      "'i' repeated 1 times\n",
      "'am' repeated 1 times\n",
      "'completed' repeated 1 times\n",
      "'myaab' repeated 1 times\n",
      "'abc' repeated 1 times\n"
     ]
    }
   ],
   "source": [
    "# Function to print the most repeated words in a file\n",
    "def print_most_repeated_words(file_name):\n",
    "    try:\n",
    "        with open(file_name, 'r') as file:\n",
    "            text = file.read()\n",
    "            words = text.split()\n",
    "            word_count = {}\n",
    "            for word in words:\n",
    "                word = word.strip(\".,!?\\\"'()[]{}\")  # Remove common punctuation\n",
    "                word = word.lower()  # Convert to lowercase for case-insensitive counting\n",
    "                if word in word_count:\n",
    "                    word_count[word] += 1\n",
    "                else:\n",
    "                    word_count[word] = 1\n",
    "\n",
    "            most_repeated_words = []\n",
    "            max_count = max(word_count.values())\n",
    "\n",
    "            for word, count in word_count.items():\n",
    "                if count == max_count:\n",
    "                    most_repeated_words.append(word)\n",
    "\n",
    "            print(\"The most repeated word(s) in the file is/are:\")\n",
    "            for word in most_repeated_words:\n",
    "                print(f\"'{word}' repeated {max_count} times\")\n",
    "\n",
    "    except FileNotFoundError:\n",
    "        print(f\"File '{file_name}' not found.\")\n",
    "\n",
    "# Usage example\n",
    "file_name = \"Kernal13000.txt\"  # Replace with the path to your file\n",
    "print_most_repeated_words(file_name)\n"
   ]
  },
  {
   "cell_type": "markdown",
   "metadata": {},
   "source": [
    "# Print Lengthiest words."
   ]
  },
  {
   "cell_type": "code",
   "execution_count": 30,
   "metadata": {},
   "outputs": [
    {
     "name": "stdout",
     "output_type": "stream",
     "text": [
      "The longest word(s) in the file is/are:\n",
      "'completed' with a length of 9\n"
     ]
    }
   ],
   "source": [
    "# Function to print the longest words in a file\n",
    "def print_longest_words(file_name):\n",
    "    try:\n",
    "        with open(file_name, 'r') as file:\n",
    "            text = file.read()\n",
    "            words = text.split()\n",
    "            longest_words = []\n",
    "            max_length = 0\n",
    "\n",
    "            for word in words:\n",
    "                word = word.strip(\".,!?\\\"'()[]{}\")  # Remove common punctuation\n",
    "                if len(word) > max_length:\n",
    "                    max_length = len(word)\n",
    "                    longest_words = [word]\n",
    "                elif len(word) == max_length:\n",
    "                    longest_words.append(word)\n",
    "\n",
    "            print(\"The longest word(s) in the file is/are:\")\n",
    "            for word in longest_words:\n",
    "                print(f\"'{word}' with a length of {max_length}\")\n",
    "\n",
    "    except FileNotFoundError:\n",
    "        print(f\"File '{file_name}' not found.\")\n",
    "\n",
    "# Usage example\n",
    "file_name = \"Kernal13000.txt\"  # Replace with the path to your file\n",
    "print_longest_words(file_name)\n"
   ]
  }
 ],
 "metadata": {
  "kernelspec": {
   "display_name": "base",
   "language": "python",
   "name": "python3"
  },
  "language_info": {
   "codemirror_mode": {
    "name": "ipython",
    "version": 3
   },
   "file_extension": ".py",
   "mimetype": "text/x-python",
   "name": "python",
   "nbconvert_exporter": "python",
   "pygments_lexer": "ipython3",
   "version": "3.9.12"
  }
 },
 "nbformat": 4,
 "nbformat_minor": 2
}

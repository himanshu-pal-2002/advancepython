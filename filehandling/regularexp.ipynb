{
 "cells": [
  {
   "cell_type": "markdown",
   "metadata": {},
   "source": [
    "# Regular Expression:\n",
    "1.It is a sequence of characters that forms a search patters.\n",
    "2.It can be used to check if a string contains the specified search patters.\n",
    "3.In order to achieve Regular expression we have to import that re module by below symbol.\n",
    "\n",
    "-----------import re-----------"
   ]
  },
  {
   "cell_type": "code",
   "execution_count": null,
   "metadata": {},
   "outputs": [],
   "source": []
  }
 ],
 "metadata": {
  "language_info": {
   "name": "python"
  }
 },
 "nbformat": 4,
 "nbformat_minor": 2
}

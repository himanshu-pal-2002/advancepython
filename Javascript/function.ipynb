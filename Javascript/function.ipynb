{
 "cells": [
  {
   "cell_type": "markdown",
   "metadata": {},
   "source": [
    "# Function :\n",
    "Function is a set of statements which is used to perform some task.\n",
    "\n",
    "In javascript function can be created in 3 ways.\n",
    " 1.function declaration\n",
    " 2.function expression\n",
    " 3.arrow function(ESC)"
   ]
  }
 ],
 "metadata": {
  "language_info": {
   "name": "python"
  }
 },
 "nbformat": 4,
 "nbformat_minor": 2
}

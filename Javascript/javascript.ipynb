{
 "cells": [
  {
   "cell_type": "markdown",
   "metadata": {},
   "source": [
    "# Javascript #\n",
    "1.It is a high level programming language.\n",
    "2.It is multi paradigm programming language which means in javascript programming can be done in multiple ways/approach.\n",
    "   Procedural\n",
    "   Functional\n",
    "   Objectbased\n",
    "3.Javascript is (Just in Time (JIT)) compilation programming language.(source code converts byte code)\n",
    "   The source code which are converted in machines code internally this is known as (JIT).\n",
    "\n",
    "# INTERNAL JS #\n",
    "<script>\n",
    "    console.log(\"!!!!Hello World!!!!\")\n",
    "    </script>\n",
    "\n",
    "# FUNCTIONAL ORIENTED #\n",
    "<script>\n",
    "    function main()\n",
    "    {\n",
    "        console.log(\"main() starts\")\n",
    "        console.log(\"main() ends\")\n",
    "    }\n",
    "    main()  //function calling\n",
    "    </script>\n",
    "\n",
    "# CLASS BASED #\n",
    "<script>\n",
    "    class A\n",
    "    {\n",
    "        constructor()\n",
    "        {\n",
    "            console.log(\"!!Hello World!!\")\n",
    "        }\n",
    "    }\n",
    "    new A()\n",
    "    </script>"
   ]
  }
 ],
 "metadata": {
  "language_info": {
   "name": "python"
  }
 },
 "nbformat": 4,
 "nbformat_minor": 2
}
